{
 "cells": [
  {
   "cell_type": "code",
   "execution_count": 1,
   "id": "fff5b9a5-8404-4f4e-93bf-4fd68240dfa7",
   "metadata": {},
   "outputs": [],
   "source": [
    "import pandas as pd\n",
    "import numpy as np\n",
    "import pathlib\n",
    "\n",
    "imdb_data_dir = pathlib.Path('../../letterbox-data').resolve()\n",
    "\n"
   ]
  },
  {
   "cell_type": "code",
   "execution_count": 2,
   "id": "b0534cb9-76bb-43c3-9da7-31ed42c54dbf",
   "metadata": {},
   "outputs": [
    {
     "name": "stdout",
     "output_type": "stream",
     "text": [
      "/home/renton/Documents/letterbox-data\n"
     ]
    }
   ],
   "source": [
    "print(imdb_data_dir)"
   ]
  },
  {
   "cell_type": "code",
   "execution_count": null,
   "id": "01afb59e-2e0c-414d-9920-92157281d88b",
   "metadata": {},
   "outputs": [],
   "source": []
  }
 ],
 "metadata": {
  "kernelspec": {
   "display_name": "Python 3 (ipykernel)",
   "language": "python",
   "name": "python3"
  },
  "language_info": {
   "codemirror_mode": {
    "name": "ipython",
    "version": 3
   },
   "file_extension": ".py",
   "mimetype": "text/x-python",
   "name": "python",
   "nbconvert_exporter": "python",
   "pygments_lexer": "ipython3",
   "version": "3.12.3"
  }
 },
 "nbformat": 4,
 "nbformat_minor": 5
}
